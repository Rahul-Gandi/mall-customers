{
 "cells": [
  {
   "cell_type": "code",
   "execution_count": null,
   "metadata": {},
   "outputs": [],
   "source": [
    "# Import necessary libraries\n",
    "import numpy as np\n",
    "import pandas as pd\n",
    "import matplotlib.pyplot as plt\n",
    "from sklearn.cluster import KMeans\n",
    "\n",
    "# Load the dataset\n",
    "dataset = pd.read_csv('Mall_Customers.csv')\n",
    "\n",
    "# Select relevant features: Annual Income and Spending Score\n",
    "X = dataset.iloc[:, [3, 4]].values  # Columns for Annual Income and Spending Score\n",
    "\n",
    "# Use the Elbow Method to find the optimal number of clusters\n",
    "wcss = []\n",
    "for i in range(1, 11):  # Testing cluster counts from 1 to 10\n",
    "    kmeans = KMeans(n_clusters=i, init='k-means++', random_state=42)\n",
    "    kmeans.fit(X)\n",
    "    wcss.append(kmeans.inertia_)  # Append WCSS for each number of clusters\n",
    "\n",
    "# Plot the Elbow Method\n",
    "plt.figure(figsize=(8, 6))\n",
    "plt.plot(range(1, 11), wcss, marker='o', linestyle='--', color='b')\n",
    "plt.title('Elbow Method')\n",
    "plt.xlabel('Number of Clusters')\n",
    "plt.ylabel('WCSS')\n",
    "plt.show()\n",
    "\n",
    "# Train the K-Means model with the optimal number of clusters (e.g., 5)\n",
    "kmeans = KMeans(n_clusters=5, init='k-means++', random_state=42)\n",
    "y_kmeans = kmeans.fit_predict(X)\n",
    "\n",
    "# Visualize the clusters\n",
    "plt.figure(figsize=(10, 7))\n",
    "colors = ['red', 'blue', 'green', 'cyan', 'magenta']\n",
    "\n",
    "for i in range(5):\n",
    "    plt.scatter(X[y_kmeans == i, 0], X[y_kmeans == i, 1], \n",
    "                s=100, c=colors[i], label=f'Cluster {i+1}')\n",
    "\n",
    "plt.scatter(kmeans.cluster_centers_[:, 0], kmeans.cluster_centers_[:, 1], \n",
    "            s=300, c='yellow', marker='*', label='Centroids')\n",
    "plt.title('Customer Segments (K-Means)')\n",
    "plt.xlabel('Annual Income (k$)')\n",
    "plt.ylabel('Spending Score (1–100)')\n",
    "plt.legend()\n",
    "plt.show()\n"
   ]
  }
 ],
 "metadata": {
  "language_info": {
   "name": "python"
  }
 },
 "nbformat": 4,
 "nbformat_minor": 2
}
